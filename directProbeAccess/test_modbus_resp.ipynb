{
 "cells": [
  {
   "cell_type": "code",
   "execution_count": 1,
   "metadata": {},
   "outputs": [],
   "source": [
    "from binascii import hexlify, unhexlify\n",
    "cal_msg = b'\\xFF\\x06\\x00\\x0A\\x00\\x06\\x3C\\x14'\n",
    "cal_resp = b'\\xff\\x06\\x00\\n\\x00\\x06<\\x14'\n",
    "ver_msg = b'\\xfe\\x03\\x00\\n\\x00\\x01\\xb0\\x07'\n",
    "ver_resp = b'\\xfe\\x03\\x02\\x00=m\\x81'"
   ]
  },
  {
   "cell_type": "code",
   "execution_count": 2,
   "metadata": {},
   "outputs": [
    {
     "name": "stdout",
     "output_type": "stream",
     "text": [
      "b'ff06000a00063c14'\n",
      "b'ff06000a00063c14'\n",
      "b'fe03000a0001b007'\n",
      "b'fe0302003d6d81'\n"
     ]
    }
   ],
   "source": [
    "print(hexlify(cal_msg[:]))\n",
    "print(hexlify(cal_resp[:]))\n",
    "print(hexlify(ver_msg[:]))\n",
    "print(hexlify(ver_resp[:]))"
   ]
  },
  {
   "cell_type": "code",
   "execution_count": 8,
   "metadata": {},
   "outputs": [],
   "source": [
    "class modbus_message:\n",
    "    def __init__(self, raw_data) -> None:\n",
    "        self.raw_data = hexlify(raw_data)\n",
    "        self.station_address = self.raw_data[0:2]\n",
    "        self.function_code = self.raw_data[2:4]  \n",
    "        self.payload = self.raw_data[4:-4]\n",
    "        self.crc = self.raw_data[-4:]\n",
    "    def __str__(self) -> str:\n",
    "        return f\"Station Address:{self.station_address} Function Code:{self.function_code} CRC:{self.crc}\"\n",
    "\n",
    "class modbus_read_message(modbus_message):\n",
    "    def __init__(self, raw_data) -> None:\n",
    "        super().__init__(raw_data)\n",
    "        self.register_start_address = self.payload[0:4]\n",
    "        self.n_registers = self.payload[4:8]\n",
    "    def __str__(self) -> str:\n",
    "        return super().__str__() + f\" Register Start Address:{self.register_start_address} N Registers:{self.n_registers}\"\n",
    "\n",
    "class modbus_write_single_message(modbus_message):\n",
    "    def __init__(self, raw_data) -> None:\n",
    "        super().__init__(raw_data)\n",
    "        if len(self.payload) != 8:\n",
    "            raise ValueError(f\"Payload must be 8 bytes long, is {len(self.payload)}\")\n",
    "        self.register_address = self.payload[0:4]\n",
    "        self.register_value = self.payload[4:8]\n",
    "    def __str__(self) -> str:\n",
    "        return super().__str__() + f\" Register Address:{self.register_address} Register Value:{self.register_value}\"\n",
    "\n",
    "class modbus_write_multiple_message(modbus_message):\n",
    "    def __init__(self, raw_data) -> None:\n",
    "        super().__init__(raw_data)\n",
    "        if len(self.payload) < 6:\n",
    "            raise ValueError(\"Payload must be at least 6 bytes long\")\n",
    "        self.register_start_address = self.payload[0:4]\n",
    "        self.n_registers = self.payload[4:8]\n",
    "        self.byte_count = self.payload[8:10]\n",
    "        self.data = self.payload[10:]\n",
    "    def __str__(self) -> str:\n",
    "        return super().__str__() + f\" Register Start Address:{self.register_start_address} N Registers:{self.n_registers} Byte Count:{self.byte_count} Data:{self.data}\""
   ]
  },
  {
   "cell_type": "code",
   "execution_count": 17,
   "metadata": {},
   "outputs": [],
   "source": [
    "class modbus_response:\n",
    "    def __init__(self, raw_data) -> None:\n",
    "        self.raw_data = hexlify(raw_data)\n",
    "        self.station_address = self.raw_data[0:2]\n",
    "        self.function_code = self.raw_data[2:4]  \n",
    "        self.payload = self.raw_data[4:-4]\n",
    "        self.crc = self.raw_data[-4:]\n",
    "    def __str__(self):\n",
    "        return f'Station Address:{self.station_address} Function Code:{self.function_code} CRC:{self.crc}'"
   ]
  },
  {
   "cell_type": "code",
   "execution_count": 18,
   "metadata": {},
   "outputs": [],
   "source": [
    "class modbus_read_response(modbus_response):\n",
    "    def __init__(self, raw_data) -> None:\n",
    "        super().__init__(raw_data)\n",
    "        self.byte_count = self.payload[0:2]\n",
    "        self.data = self.payload[2:]\n",
    "    def __str__(self):\n",
    "        return super().__str__() + f' Byte Count:{self.byte_count} Data:{self.data}'\n",
    "\n",
    "class modbus_write_single_response(modbus_response):\n",
    "    def __init__(self, raw_data) -> None:\n",
    "        super().__init__(raw_data)\n",
    "        self.address = self.payload[0:4]\n",
    "        self.value = self.payload[4:]\n",
    "    def __str__(self):\n",
    "        return super().__str__() + f' Address:{self.address} Value:{self.value}'\n",
    "    \n",
    "class modbus_write_multiple_response(modbus_response):\n",
    "    def __init__(self, raw_data) -> None:\n",
    "        super().__init__(raw_data)\n",
    "        self.address = self.payload[0:4]\n",
    "        self.n_registers = self.payload[4:8]\n",
    "    def __str__(self):\n",
    "        return super().__str__() + f' Address:{self.address} N Registers:{self.n_registers}'"
   ]
  },
  {
   "cell_type": "code",
   "execution_count": 19,
   "metadata": {},
   "outputs": [],
   "source": [
    "cal_msg_o = modbus_write_single_message(cal_msg)\n",
    "cal_resp_o = modbus_write_single_response(cal_resp)\n",
    "ver_msg_o = modbus_read_message(ver_msg)\n",
    "ver_resp_o = modbus_read_response(ver_resp)"
   ]
  },
  {
   "cell_type": "code",
   "execution_count": 20,
   "metadata": {},
   "outputs": [
    {
     "name": "stdout",
     "output_type": "stream",
     "text": [
      "Station Address:b'ff' Function Code:b'06' CRC:b'3c14' Register Address:b'000a' Register Value:b'0006'\n",
      "Station Address:b'ff' Function Code:b'06' CRC:b'3c14' Address:b'000a' Value:b'0006'\n",
      "Station Address:b'fe' Function Code:b'03' CRC:b'b007' Register Start Address:b'000a' N Registers:b'0001'\n",
      "Station Address:b'fe' Function Code:b'03' CRC:b'6d81' Byte Count:b'02' Data:b'003d'\n"
     ]
    }
   ],
   "source": [
    "print(cal_msg_o)\n",
    "print(cal_resp_o)\n",
    "print(ver_msg_o)\n",
    "print(ver_resp_o)"
   ]
  },
  {
   "cell_type": "code",
   "execution_count": 28,
   "metadata": {},
   "outputs": [
    {
     "name": "stdout",
     "output_type": "stream",
     "text": [
      "61\n"
     ]
    }
   ],
   "source": [
    "# show base 10 representation of ver_resp_o.data\n",
    "print(int(ver_resp_o.data, 16))"
   ]
  },
  {
   "cell_type": "code",
   "execution_count": null,
   "metadata": {},
   "outputs": [],
   "source": []
  }
 ],
 "metadata": {
  "kernelspec": {
   "display_name": "PH_Sens-wAfS4vyh",
   "language": "python",
   "name": "python3"
  },
  "language_info": {
   "codemirror_mode": {
    "name": "ipython",
    "version": 3
   },
   "file_extension": ".py",
   "mimetype": "text/x-python",
   "name": "python",
   "nbconvert_exporter": "python",
   "pygments_lexer": "ipython3",
   "version": "3.10.12"
  }
 },
 "nbformat": 4,
 "nbformat_minor": 2
}
